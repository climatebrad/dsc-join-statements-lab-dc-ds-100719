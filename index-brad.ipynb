{
 "cells": [
  {
   "cell_type": "markdown",
   "metadata": {},
   "source": [
    "# Join Statements - Lab\n",
    "\n",
    "## Introduction\n",
    "\n",
    "In this lab, you'll practice your knowledge of `JOIN` statements, using various types of joins and various methods for specifying the links between them.\n",
    "\n",
    "## Objectives\n",
    "\n",
    "You will be able to:\n",
    "* Write SQL queries that make use of various types of joins\n",
    "* Compare and contrast the various types of joins\n",
    "* Discuss how primary and foreign keys are used in SQL\n",
    "* Decide and perform whichever type of join is best for retrieving desired data"
   ]
  },
  {
   "cell_type": "markdown",
   "metadata": {},
   "source": [
    "## CRM Schema\n",
    "\n",
    "In almost all cases, rather than just working with a single table you will typically need data from multiple tables. \n",
    "Doing this requires the use of **joins** using shared columns from the two tables. \n",
    "\n",
    "In this lab, you'll use the same customer relationship management (CRM) database that you saw from the previous lesson.\n",
    "<img src='images/Database-Schema.png' width=\"600\">"
   ]
  },
  {
   "cell_type": "markdown",
   "metadata": {},
   "source": [
    "## Connecting to the Database\n",
    "Import the necessary packages and connect to the database **data.sqlite**."
   ]
  },
  {
   "cell_type": "code",
   "execution_count": null,
   "metadata": {},
   "outputs": [],
   "source": [
    "import pandas as pd\n",
    "import sqlite3\n",
    "conn = sqlite3.Connection('data.sqlite')\n",
    "pd.read_sql(\"SELECT name FROM sqlite_master WHERE type ='table'\",conn)"
   ]
  },
  {
   "cell_type": "markdown",
   "metadata": {},
   "source": [
    "## Display the names of all the employees in Boston.\n",
    "Hint: join the employees and offices tables."
   ]
  },
  {
   "cell_type": "code",
   "execution_count": null,
   "metadata": {},
   "outputs": [],
   "source": [
    "pd.read_sql(\"\"\"\n",
    "SELECT lastName,firstName\n",
    "FROM employees\n",
    "JOIN offices USING(officeCode)\n",
    "WHERE city='Boston'\n",
    "\"\"\",conn)"
   ]
  },
  {
   "cell_type": "markdown",
   "metadata": {},
   "source": [
    "## Are there any offices that have zero employees?\n",
    "Hint: Combine the employees and offices tables and use a group by."
   ]
  },
  {
   "cell_type": "code",
   "execution_count": null,
   "metadata": {},
   "outputs": [],
   "source": [
    "pd.read_sql(\"\"\"\n",
    "SELECT city,count(employeeNumber) as employeeCount\n",
    "FROM offices\n",
    "LEFT JOIN employees USING (officeCode)\n",
    "GROUP BY city\n",
    "\"\"\",conn)"
   ]
  },
  {
   "cell_type": "markdown",
   "metadata": {},
   "source": [
    "## Write 3 Questions of your own and answer them"
   ]
  },
  {
   "cell_type": "code",
   "execution_count": null,
   "metadata": {},
   "outputs": [],
   "source": [
    "# Answers will vary\n",
    "# Example: Display the htmlDescription and employee's first and last name for each product that each employee has sold\n",
    "pd.read_sql(\"\"\"\n",
    "SELECT productName, textDescription, firstName, lastName, sum(QuantityOrdered) numSold\n",
    "FROM productLines\n",
    "JOIN products USING(productLine)\n",
    "JOIN orderdetails USING(productCode)\n",
    "JOIN orders USING(orderNumber)\n",
    "JOIN customers USING(customerNumber)\n",
    "JOIN employees ON salesRepEmployeeNumber=employeeNumber\n",
    "GROUP BY productName,firstName,lastName\n",
    "\"\"\",conn)"
   ]
  },
  {
   "cell_type": "code",
   "execution_count": null,
   "metadata": {},
   "outputs": [],
   "source": [
    "# Best-performing offices\n",
    "pd.read_sql(\"\"\"\n",
    "SELECT o.city office, sum(QuantityOrdered) numSold, printf('$%.2f',sum(QuantityOrdered * priceEach)) sales\n",
    "FROM productLines\n",
    "JOIN products USING(productLine)\n",
    "JOIN orderdetails USING(productCode)\n",
    "JOIN orders USING(orderNumber)\n",
    "JOIN customers USING(customerNumber)\n",
    "JOIN employees ON salesRepEmployeeNumber=employeeNumber\n",
    "JOIN offices o USING(officeCode)\n",
    "GROUP BY o.city\n",
    "ORDER BY sum(QuantityOrdered * priceEach) DESC\n",
    "\"\"\",conn)"
   ]
  },
  {
   "cell_type": "code",
   "execution_count": null,
   "metadata": {},
   "outputs": [],
   "source": [
    "# Top customers listed by sales\n",
    "pd.read_sql(\"\"\"\n",
    "SELECT customerName, sum(QuantityOrdered) numSold, printf('$%.2f',sum(QuantityOrdered * priceEach)) sales\n",
    "FROM productLines\n",
    "JOIN products USING(productLine)\n",
    "JOIN orderdetails USING(productCode)\n",
    "JOIN orders USING(orderNumber)\n",
    "JOIN customers USING(customerNumber)\n",
    "GROUP BY customerNumber\n",
    "ORDER BY sum(QuantityOrdered * priceEach) DESC\n",
    "LIMIT 20\n",
    "\"\"\",conn)"
   ]
  },
  {
   "cell_type": "code",
   "execution_count": null,
   "metadata": {},
   "outputs": [],
   "source": [
    "# Order volume by year by office\n",
    "pd.read_sql(\"\"\"\n",
    "SELECT strftime('%Y',shippedDate) year, o.city office,count(orderNumber) orders\n",
    "FROM orders \n",
    "JOIN customers USING(customerNumber)\n",
    "JOIN employees ON salesRepEmployeeNumber=employeeNumber\n",
    "JOIN offices o USING(officeCode)\n",
    "WHERE year IS NOT NULL\n",
    "GROUP BY year,office\n",
    "ORDER BY year,orders DESC\n",
    "\"\"\",conn)"
   ]
  },
  {
   "cell_type": "code",
   "execution_count": null,
   "metadata": {},
   "outputs": [],
   "source": [
    "# sqlite doesn't have a pivot table so\n",
    "# Order volume by year by office\n",
    "pd.read_sql(\"\"\"\n",
    "SELECT o.city office,\n",
    "       count(case when strftime('%Y',shippedDate) = '2003' then orderNumber end) AS '2003',\n",
    "       count(case when strftime('%Y',shippedDate) = '2004' then orderNumber end) AS '2004',\n",
    "       count(case when strftime('%Y',shippedDate) = '2005' then orderNumber end) AS '2005'\n",
    "FROM orders \n",
    "JOIN customers USING(customerNumber)\n",
    "JOIN employees ON salesRepEmployeeNumber=employeeNumber\n",
    "JOIN offices o USING(officeCode)\n",
    "GROUP BY office\n",
    "\"\"\",conn).set_index(\"office\")\n",
    "\n",
    "# Of course could 'easily' do this in pandas instead"
   ]
  },
  {
   "cell_type": "code",
   "execution_count": null,
   "metadata": {},
   "outputs": [],
   "source": [
    "conn.close()"
   ]
  },
  {
   "cell_type": "markdown",
   "metadata": {},
   "source": [
    "## Summary"
   ]
  },
  {
   "cell_type": "markdown",
   "metadata": {},
   "source": [
    "Congrats! You practiced using join statements and leveraged your foreign keys knowledge!"
   ]
  }
 ],
 "metadata": {
  "language_info": {
   "name": "python",
   "pygments_lexer": "ipython3"
  }
 },
 "nbformat": 4,
 "nbformat_minor": 2
}
